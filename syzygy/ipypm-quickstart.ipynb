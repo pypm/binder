{
 "cells": [
  {
   "cell_type": "code",
   "execution_count": null,
   "metadata": {},
   "outputs": [],
   "source": [
    "!pip install --user --upgrade ipypm"
   ]
  },
  {
   "cell_type": "markdown",
   "metadata": {},
   "source": [
    "# Install and run the ipypm GUI\n",
    "* Before using ipypm for the first time, you will need to install the package into your environment.\n",
    "  * Execute the line above to install (or to upgrade to the most recent version): select the cell and hit (shift-enter)\n",
    "  * After installing (or upgrading) you should restart the Kernal: \n",
    "    * (Menu -> Kernel -> Restart & Clear Output)\n",
    "  * You will not have to do this again unless you want to upgrade ipypm to the latest version.\n",
    "\n",
    "Once the package is installed, you can start the GUI by executing the following cell :"
   ]
  },
  {
   "cell_type": "code",
   "execution_count": null,
   "metadata": {},
   "outputs": [],
   "source": [
    "from ipypm import ipypm\n",
    "ipypm.run_gui()"
   ]
  }
 ],
 "metadata": {
  "kernelspec": {
   "display_name": "Python 3",
   "language": "python",
   "name": "python3"
  },
  "language_info": {
   "codemirror_mode": {
    "name": "ipython",
    "version": 3
   },
   "file_extension": ".py",
   "mimetype": "text/x-python",
   "name": "python",
   "nbconvert_exporter": "python",
   "pygments_lexer": "ipython3",
   "version": "3.6.10"
  }
 },
 "nbformat": 4,
 "nbformat_minor": 4
}
