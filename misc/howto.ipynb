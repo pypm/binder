{
 "cells": [
  {
   "cell_type": "markdown",
   "metadata": {},
   "source": [
    "## Simple example of how to run pypm model\n",
    " * create model object\n",
    " * run model object to calculate expectation value time series\n",
    " * run model object to produce simulated data\n",
    " * adjust a model parameter and rerun model"
   ]
  },
  {
   "cell_type": "code",
   "execution_count": 1,
   "metadata": {},
   "outputs": [],
   "source": [
    "from pypmca import Model"
   ]
  },
  {
   "cell_type": "code",
   "execution_count": 2,
   "metadata": {},
   "outputs": [
    {
     "name": "stdout",
     "output_type": "stream",
     "text": [
      "expected cumulative cases up until day 277: 63643.2\n",
      "expected new cases on day 278: 1945.0\n",
      "expected number in ICU on 278: 99.8\n"
     ]
    }
   ],
   "source": [
    "# re-create the Alberta model tuned on December 2 from its pickle file\n",
    "alberta_model = Model.open_file('ab_2_3_1202.pypm')\n",
    "\n",
    "# run the model, calculate expectation values for all populations for 280 days (day 0 = March 1, 2020)\n",
    "alberta_model.evolve_expectations(280)\n",
    "\n",
    "# total number of cases reported on day 277 (277 days after March 1, 2020)\n",
    "cumul = alberta_model.populations['reported'].history[277]\n",
    "print('expected cumulative cases up until day 277: {0:.1f}'.format(cumul) )\n",
    "\n",
    "# number of new cases on day 278:\n",
    "daily = alberta_model.populations['reported'].history[278]-alberta_model.populations['reported'].history[277]\n",
    "print('expected new cases on day 278: {0:.1f}'.format(daily))\n",
    "\n",
    "# number of people in ICU on day 278:\n",
    "icu = alberta_model.populations['in_icu'].history[278]\n",
    "print('expected number in ICU on 278: {0:.1f}'.format(icu))"
   ]
  },
  {
   "cell_type": "code",
   "execution_count": 3,
   "metadata": {},
   "outputs": [
    {
     "name": "stdout",
     "output_type": "stream",
     "text": [
      "simulated cumulative cases up until day 277: 84648\n",
      "simulated new cases on day 278: 1532\n",
      "simulated number in ICU on 278: 158\n"
     ]
    }
   ],
   "source": [
    "# reset the model and run the model again to produce a simulated data set for the same period\n",
    "alberta_model.reset()\n",
    "alberta_model.generate_data(280)\n",
    "\n",
    "# total number of cases reported on day 277 (277 days after March 1, 2020)\n",
    "cumul = alberta_model.populations['reported'].history[277]\n",
    "print('simulated cumulative cases up until day 277:', cumul)\n",
    "\n",
    "# number of new cases on day 278:\n",
    "daily = alberta_model.populations['reported'].history[278]-alberta_model.populations['reported'].history[277]\n",
    "print('simulated new cases on day 278:',daily)\n",
    "\n",
    "# number of people in ICU on day 278:\n",
    "icu = alberta_model.populations['in_icu'].history[278]\n",
    "print('simulated number in ICU on 278:', icu)"
   ]
  },
  {
   "cell_type": "code",
   "execution_count": 4,
   "metadata": {},
   "outputs": [
    {
     "name": "stdout",
     "output_type": "stream",
     "text": [
      "transmission rate for period (day 217-now) changed from 0.232 to 0.208\n",
      "expected cumulative cases up until day 277: 48865.8\n",
      "expected new cases on day 278: 1029.3\n",
      "expected number in ICU on 278: 55.4\n"
     ]
    }
   ],
   "source": [
    "# adjust the parameter for the current transmission rate and recalculate expectations\n",
    "# - decrease the current transmission rate by 10%\n",
    "\n",
    "alberta_model.reset()\n",
    "alpha_current = alberta_model.parameters['alpha_5'].get_value()\n",
    "alpha_new = alpha_current * 0.9\n",
    "alberta_model.parameters['alpha_5'].set_value(alpha_new)\n",
    "\n",
    "print('transmission rate for period (day 217-now) changed from {0:.3f} to {1:.3f}'.format(alpha_current,alpha_new))\n",
    "\n",
    "alberta_model.evolve_expectations(280)\n",
    "\n",
    "# total number of cases reported on day 277 (277 days after March 1, 2020)\n",
    "cumul = alberta_model.populations['reported'].history[277]\n",
    "print('expected cumulative cases up until day 277: {0:.1f}'.format(cumul) )\n",
    "\n",
    "# number of new cases on day 278:\n",
    "daily = alberta_model.populations['reported'].history[278]-alberta_model.populations['reported'].history[277]\n",
    "print('expected new cases on day 278: {0:.1f}'.format(daily))\n",
    "\n",
    "# number of people in ICU on day 278:\n",
    "icu = alberta_model.populations['in_icu'].history[278]\n",
    "print('expected number in ICU on 278: {0:.1f}'.format(icu))"
   ]
  },
  {
   "cell_type": "code",
   "execution_count": null,
   "metadata": {},
   "outputs": [],
   "source": []
  }
 ],
 "metadata": {
  "kernelspec": {
   "display_name": "Python 3",
   "language": "python",
   "name": "python3"
  },
  "language_info": {
   "codemirror_mode": {
    "name": "ipython",
    "version": 3
   },
   "file_extension": ".py",
   "mimetype": "text/x-python",
   "name": "python",
   "nbconvert_exporter": "python",
   "pygments_lexer": "ipython3",
   "version": "3.7.6"
  }
 },
 "nbformat": 4,
 "nbformat_minor": 4
}
